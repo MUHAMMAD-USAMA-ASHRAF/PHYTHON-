{
 "cells": [
  {
   "cell_type": "code",
   "execution_count": 2,
   "metadata": {},
   "outputs": [
    {
     "name": "stdout",
     "output_type": "stream",
     "text": [
      "usama\n",
      "ashraf\n",
      "19\n",
      "Karachi\n",
      "Intermediate\n",
      " update Qualification Becholor\n",
      "{'First_Name': 'usama', 'Last_Name': 'ashraf', 'Age': '19', 'city': 'Karachi'}\n"
     ]
    }
   ],
   "source": [
    "#Question No. 1\n",
    "\n",
    "dic={\n",
    "    \"First_Name\":\"usama\",\n",
    "    \"Last_Name\":\"ashraf\",\n",
    "    \"Age\": \"19\",\n",
    "    \"city\":\"Karachi\"\n",
    "    \n",
    "    \n",
    "}\n",
    "for i in dic.values():\n",
    "    print(i)\n",
    "    \n",
    "dic.update({\"Qualification\":\"Intermediate\"})\n",
    "print(dic[\"Qualification\"])\n",
    "dic[\"Qualification\"]=\"Becholor\"\n",
    "print(\" update Qualification\",dic[\"Qualification\"])\n",
    "del dic[\"Qualification\"]\n",
    "print(dic)"
   ]
  },
  {
   "cell_type": "code",
   "execution_count": 3,
   "metadata": {},
   "outputs": [
    {
     "name": "stdout",
     "output_type": "stream",
     "text": [
      "Name of city is  karachi\n",
      "Country Name is :  Pakistan\n",
      "Approximate population is :  14.91 million\n",
      "Fact of the city is :  It is the Sixth largest city in the world by city population\n",
      "------------------------------------------------------------------------------------------------------\n",
      "Name of city is  Muscut\n",
      "Country Name is :  Oman\n",
      "Approximate population is :  1.72 million\n",
      "Fact of the city is :  Muscat is its capital and largest city. Arabic is the official language of Oman.\n",
      "------------------------------------------------------------------------------------------------------\n",
      "Name of city is  Washington\n",
      "Country Name is :  America\n",
      "Approximate population is :  7.536 million\n",
      "Fact of the city is :  The state of Washington is the only state to be named after a United States president.\n",
      "------------------------------------------------------------------------------------------------------\n"
     ]
    }
   ],
   "source": [
    "\n",
    "# Question no. #2\n",
    "cities={\n",
    "    \"karachi\":{\n",
    "        \"country\":\"Pakistan\",\n",
    "        \"approximate_population\":\"14.91 million\",\n",
    "        \"Fact\":\"It is the Sixth largest city in the world by city population\"\n",
    "        \n",
    "    },\n",
    "    \"Muscut\":{\n",
    "        \"country\":\"Oman\",\n",
    "        \"approximate_population\":\"1.72 million\",\n",
    "        \"Fact\":\"Muscat is its capital and largest city. Arabic is the official language of Oman.\"  \n",
    "    },\n",
    "    \"Washington\":{\n",
    "        \n",
    "        \"country\":\"America\",\n",
    "        \"approximate_population\":\"7.536 million\",\n",
    "        \"Fact\":\"The state of Washington is the only state to be named after a United States president.\"\n",
    "        \n",
    "    }\n",
    "    \n",
    "}\n",
    "for i in cities.keys():\n",
    "    print(\"Name of city is \", i)\n",
    "    print(\"Country Name is : \" , cities[i][\"country\"])\n",
    "    print(\"Approximate population is : \" , cities[i][\"approximate_population\"])\n",
    "    print(\"Fact of the city is : \" , cities[i][\"Fact\"])\n",
    "    print(\"------------------------------------------------------------------------------------------------------\")"
   ]
  },
  {
   "cell_type": "code",
   "execution_count": null,
   "metadata": {},
   "outputs": [],
   "source": [
    "#Question no. 03\n",
    "print(\"Welcome! To MY Cinema:\")\n",
    "person=int(input(\"Plz Enter The No. Of Persons\"))\n",
    "total_Price=0\n",
    "for i in range(1,person+1):\n",
    "    name=input(\"Enter The Name Of Person\")\n",
    "    Age=int(input(\"Enter Age of Person \"))\n",
    "    if Age <= 3 and Age > 0:\n",
    "        print(\"Your Ticket is Free So Enjoy your Movie :\")\n",
    "    elif Age <= 12:\n",
    "        Print(\"Your Ticket Price will be 10$ .\")\n",
    "        total_Price +=10\n",
    "    else:\n",
    "        print(\"Your Ticket Price will be 15$ .\")\n",
    "        total_Price += 15\n",
    "print(\"Total Amount = \" ,total_Price,\"$ Enjoy Movie\")"
   ]
  },
  {
   "cell_type": "code",
   "execution_count": 5,
   "metadata": {},
   "outputs": [
    {
     "name": "stdin",
     "output_type": "stream",
     "text": [
      "Enter The Book Title:  ssssaaaa\n"
     ]
    },
    {
     "name": "stdout",
     "output_type": "stream",
     "text": [
      "One Of my Favourite Book  ssssaaaa\n"
     ]
    }
   ],
   "source": [
    "\n",
    "#Question No. 04\n",
    "def favourite_book(book_Name):\n",
    "    print(\"One Of my Favourite Book \",book_Name)\n",
    "    \n",
    "title=input(\"Enter The Book Title: \")\n",
    "\n",
    "favourite_book(title)"
   ]
  },
  {
   "cell_type": "code",
   "execution_count": 6,
   "metadata": {},
   "outputs": [
    {
     "name": "stdin",
     "output_type": "stream",
     "text": [
      "Guess the number between 1 to 30 :  23\n"
     ]
    },
    {
     "name": "stdout",
     "output_type": "stream",
     "text": [
      "Your guess is too high\n"
     ]
    },
    {
     "name": "stdin",
     "output_type": "stream",
     "text": [
      "Guess the number between 1 to 30 :  12\n"
     ]
    },
    {
     "name": "stdout",
     "output_type": "stream",
     "text": [
      "Your guess is too low\n"
     ]
    },
    {
     "name": "stdin",
     "output_type": "stream",
     "text": [
      "Guess the number between 1 to 30 :  18\n"
     ]
    },
    {
     "name": "stdout",
     "output_type": "stream",
     "text": [
      "Your guess is too low\n",
      "You Loose\n",
      "Correct Number is  19\n"
     ]
    }
   ],
   "source": [
    "\n",
    "# Question No. 05\n",
    "import random\n",
    "\n",
    "random_number = random.randrange(1,30)\n",
    "\n",
    "flag = False\n",
    "\n",
    "for i in range(1,4):\n",
    "    guess_corre = int(input(\"Guess the number between 1 to 30 : \"))\n",
    "    if guess_corre == random_number:\n",
    "        flag = True \n",
    "        break\n",
    "    elif guess_corre < random_number:\n",
    "        print(\"Your guess is too low\")\n",
    "    else:\n",
    "        print(\"Your guess is too high\")\n",
    "        \n",
    "if flag:\n",
    "    print(\"Congratulation you Win!!\")\n",
    "else:\n",
    "    print(\"You Loose\")\n",
    "    print(\"Correct Number is \", random_number)"
   ]
  },
  {
   "cell_type": "code",
   "execution_count": null,
   "metadata": {},
   "outputs": [],
   "source": []
  }
 ],
 "metadata": {
  "kernelspec": {
   "display_name": "Python 3",
   "language": "python",
   "name": "python3"
  },
  "language_info": {
   "codemirror_mode": {
    "name": "ipython",
    "version": 3
   },
   "file_extension": ".py",
   "mimetype": "text/x-python",
   "name": "python",
   "nbconvert_exporter": "python",
   "pygments_lexer": "ipython3",
   "version": "3.7.3"
  }
 },
 "nbformat": 4,
 "nbformat_minor": 4
}
