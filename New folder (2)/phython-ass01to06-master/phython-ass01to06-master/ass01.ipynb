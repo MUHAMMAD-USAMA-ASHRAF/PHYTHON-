{
 "cells": [
  {
   "cell_type": "code",
   "execution_count": 1,
   "metadata": {},
   "outputs": [
    {
     "name": "stdout",
     "output_type": "stream",
     "text": [
      "Twinkle, twinkle, little star\n",
      "      How I Wonder what you are!\n",
      "               Up above the world so high,\n",
      "                  Like a daimond in th sky.\n",
      "Twinkle, twinkle, little star\n",
      "      How I Wonder what you are!\n"
     ]
    }
   ],
   "source": [
    "#Question 1\n",
    "print('Twinkle, twinkle, little star')\n",
    "print('      How I Wonder what you are!')\n",
    "print('               Up above the world so high,')\n",
    "print('                  Like a daimond in th sky.')\n",
    "print('Twinkle, twinkle, little star')\n",
    "print('      How I Wonder what you are!')"
   ]
  },
  {
   "cell_type": "code",
   "execution_count": 2,
   "metadata": {},
   "outputs": [
    {
     "name": "stdout",
     "output_type": "stream",
     "text": [
      "3.7.3 | packaged by conda-forge | (default, Jul  1 2019, 21:52:21) \n",
      "[GCC 7.3.0]\n"
     ]
    }
   ],
   "source": [
    "# Question Two\n",
    "import sys \n",
    "print(sys.version)"
   ]
  },
  {
   "cell_type": "code",
   "execution_count": 3,
   "metadata": {},
   "outputs": [
    {
     "name": "stdout",
     "output_type": "stream",
     "text": [
      "2019-12-21 17:38:37.937453\n"
     ]
    }
   ],
   "source": [
    "\n",
    "# Question Three\n",
    "import datetime\n",
    "dati=datetime.datetime.now()\n",
    "print(dati)"
   ]
  },
  {
   "cell_type": "code",
   "execution_count": 4,
   "metadata": {},
   "outputs": [
    {
     "name": "stdin",
     "output_type": "stream",
     "text": [
      "Enter Radius of circle 2\n"
     ]
    },
    {
     "name": "stdout",
     "output_type": "stream",
     "text": [
      "Area of circle is  12.56\n"
     ]
    }
   ],
   "source": [
    "\n",
    "# question four\n",
    "r=int(input(\"Enter Radius of circle\"))\n",
    "q=r*r\n",
    "radius=(3.14*q)\n",
    "print(\"Area of circle is \" ,radius)"
   ]
  },
  {
   "cell_type": "code",
   "execution_count": 5,
   "metadata": {},
   "outputs": [
    {
     "name": "stdin",
     "output_type": "stream",
     "text": [
      "Enter First Name usama ashraf\n",
      "Enter Last Name ashraf\n"
     ]
    },
    {
     "name": "stdout",
     "output_type": "stream",
     "text": [
      "ashraf usama ashraf\n"
     ]
    }
   ],
   "source": [
    "#question Five\n",
    "FN = input(\"Enter First Name\")\n",
    "LN=input(\"Enter Last Name\")\n",
    "\n",
    "reverse=FN\n",
    "FN=LN\n",
    "LN=reverse\n",
    "\n",
    "print(FN,LN)\n"
   ]
  },
  {
   "cell_type": "code",
   "execution_count": 6,
   "metadata": {},
   "outputs": [
    {
     "name": "stdin",
     "output_type": "stream",
     "text": [
      "Enter First Value 15\n",
      "Enter Last Value 35\n"
     ]
    },
    {
     "name": "stdout",
     "output_type": "stream",
     "text": [
      "Your value after addition 50\n"
     ]
    }
   ],
   "source": [
    "# Question Six\n",
    "First=int(input(\"Enter First Value\"))\n",
    "Last=int(input(\"Enter Last Value\"))\n",
    "print(\"Your value after addition\",(First+Last))"
   ]
  },
  {
   "cell_type": "code",
   "execution_count": null,
   "metadata": {},
   "outputs": [],
   "source": []
  }
 ],
 "metadata": {
  "kernelspec": {
   "display_name": "Python 3",
   "language": "python",
   "name": "python3"
  },
  "language_info": {
   "codemirror_mode": {
    "name": "ipython",
    "version": 3
   },
   "file_extension": ".py",
   "mimetype": "text/x-python",
   "name": "python",
   "nbconvert_exporter": "python",
   "pygments_lexer": "ipython3",
   "version": "3.7.3"
  }
 },
 "nbformat": 4,
 "nbformat_minor": 4
}
