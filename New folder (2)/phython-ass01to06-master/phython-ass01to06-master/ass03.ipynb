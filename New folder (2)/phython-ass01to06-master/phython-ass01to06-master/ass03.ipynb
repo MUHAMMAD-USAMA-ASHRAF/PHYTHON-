{
 "cells": [
  {
   "cell_type": "code",
   "execution_count": 1,
   "metadata": {},
   "outputs": [
    {
     "name": "stdin",
     "output_type": "stream",
     "text": [
      "Enter First Number 123\n",
      "Enter Second Number 87\n",
      "Enter Operator /\n"
     ]
    },
    {
     "name": "stdout",
     "output_type": "stream",
     "text": [
      "1.4137931034482758\n"
     ]
    }
   ],
   "source": [
    "# Question no. 1\n",
    "First=int(input(\"Enter First Number\"))\n",
    "second=int(input(\"Enter Second Number\"))\n",
    "opertor=input(\"Enter Operator\")\n",
    "\n",
    "if opertor == '+':\n",
    "    x=First+second\n",
    "    print(x)\n",
    "elif opertor == '-':\n",
    "    x=First-second\n",
    "    print(x)\n",
    "elif opertor =='*':\n",
    "    x=First*second\n",
    "    print(x)\n",
    "elif opertor =='/':\n",
    "    x=First/second\n",
    "    print(x)\n",
    "elif opertor == '^':\n",
    "        z=First**second\n",
    "        print(z)\n",
    "else:\n",
    "    print(\"Your operator is incorrect\")"
   ]
  },
  {
   "cell_type": "code",
   "execution_count": 2,
   "metadata": {},
   "outputs": [
    {
     "name": "stdout",
     "output_type": "stream",
     "text": [
      "['1', '2', '5', '8', '7']\n",
      "['1', '2', '5', '8', '7']\n",
      "['1', '2', '5', '8', '7']\n",
      "['1', '2', '5', '8', '7']\n",
      "['1', '2', '5', '8', '7']\n",
      "['1', '2', '5', '8', '7']\n",
      "['1', '2', '5', '8', '7']\n"
     ]
    }
   ],
   "source": [
    "# Question No. 2\n",
    "mylist=['1','2','5','8','Apple','7','banana']\n",
    "mynewlist=[]\n",
    "for item in mylist:\n",
    "    mynewlist =  [s for s in mylist if s.isdigit()]\n",
    "    print(mynewlist)"
   ]
  },
  {
   "cell_type": "code",
   "execution_count": 3,
   "metadata": {},
   "outputs": [
    {
     "name": "stdout",
     "output_type": "stream",
     "text": [
      "{'a': 10, 'b': 20}\n",
      "{'a': 10, 'b': 20, 'c': 30}\n"
     ]
    }
   ],
   "source": [
    "# question no. 3\n",
    "dic={\n",
    "    'a':10,\n",
    "    'b':20\n",
    "}\n",
    "print(dic)\n",
    "dic.update({'c':30})\n",
    "print(dic)"
   ]
  },
  {
   "cell_type": "code",
   "execution_count": 4,
   "metadata": {},
   "outputs": [
    {
     "name": "stdout",
     "output_type": "stream",
     "text": [
      "210\n"
     ]
    }
   ],
   "source": [
    "#Question no.4\n",
    "d = {'a': 10, 'b': 20, 'c': 30, 'd': 40, 'e': 50, 'f': 60}\n",
    "Sum=sum(d.values())\n",
    "print(Sum)"
   ]
  },
  {
   "cell_type": "code",
   "execution_count": 5,
   "metadata": {},
   "outputs": [
    {
     "name": "stdout",
     "output_type": "stream",
     "text": [
      "[1, 5, 7]\n"
     ]
    }
   ],
   "source": [
    "#question no.5\n",
    "mylist = [ 1, 4, 5, 7, 2, 1, 5, 7, 12]\n",
    "mynewlist = []\n",
    "duplicate = {}\n",
    "for x in mylist:\n",
    "    if x not in duplicate:\n",
    "        duplicate[x] = 1\n",
    "    else:\n",
    "        if duplicate[x] == 1:\n",
    "            mynewlist.append(x)\n",
    "        duplicate[x] += 1\n",
    "print(mynewlist)"
   ]
  },
  {
   "cell_type": "code",
   "execution_count": 6,
   "metadata": {},
   "outputs": [
    {
     "name": "stdout",
     "output_type": "stream",
     "text": [
      "present\n"
     ]
    }
   ],
   "source": [
    "#Question no.6\n",
    "dic={'a':5,\n",
    "    'b':6,\n",
    "    'c':8,\n",
    "    'd':9}\n",
    "x=5\n",
    "if x in dic.values():\n",
    "    print(\"present\")\n",
    "else:\n",
    "    print(\"not present\")"
   ]
  },
  {
   "cell_type": "code",
   "execution_count": null,
   "metadata": {},
   "outputs": [],
   "source": []
  }
 ],
 "metadata": {
  "kernelspec": {
   "display_name": "Python 3",
   "language": "python",
   "name": "python3"
  },
  "language_info": {
   "codemirror_mode": {
    "name": "ipython",
    "version": 3
   },
   "file_extension": ".py",
   "mimetype": "text/x-python",
   "name": "python",
   "nbconvert_exporter": "python",
   "pygments_lexer": "ipython3",
   "version": "3.7.3"
  }
 },
 "nbformat": 4,
 "nbformat_minor": 4
}
